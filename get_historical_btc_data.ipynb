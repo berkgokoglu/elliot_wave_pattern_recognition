{
 "cells": [
  {
   "cell_type": "code",
   "execution_count": 1,
   "metadata": {},
   "outputs": [
    {
     "name": "stdout",
     "output_type": "stream",
     "text": [
      "No keys, only access to public API functions\n"
     ]
    }
   ],
   "source": [
    "import bitfinex\n",
    "api_v2 = bitfinex.bitfinex_v2.api_v2()"
   ]
  },
  {
   "cell_type": "code",
   "execution_count": 2,
   "metadata": {},
   "outputs": [],
   "source": [
    "import datetime\n",
    "import time\n",
    "import pandas as pd\n"
   ]
  },
  {
   "cell_type": "code",
   "execution_count": 3,
   "metadata": {},
   "outputs": [],
   "source": [
    "result = api_v2.candles()"
   ]
  },
  {
   "cell_type": "code",
   "execution_count": 4,
   "metadata": {},
   "outputs": [
    {
     "data": {
      "text/plain": [
       "datetime.datetime(2021, 4, 1, 18, 11, 43, 144866)"
      ]
     },
     "execution_count": 4,
     "metadata": {},
     "output_type": "execute_result"
    }
   ],
   "source": [
    "datetime.datetime.now()"
   ]
  },
  {
   "cell_type": "code",
   "execution_count": 101,
   "metadata": {},
   "outputs": [],
   "source": [
    "\n",
    "# Define query parameters\n",
    "pair = 'btcusd' # Currency pair of interest\n",
    "bin_size = '30m' # This will return minute data\n",
    "limit = 1000    # We want the maximum of 1000 data points \n",
    "# Define the start date\n",
    "t_start = datetime.datetime(2021, 3, 31, 0, 0)\n",
    "t_start = time.mktime(t_start.timetuple()) * 1000\n",
    "# Define the end date\n",
    "t_stop = datetime.datetime(2021, 3, 31, 18, 30)\n",
    "t_stop = time.mktime(t_stop.timetuple()) * 1000\n",
    "t_stop = time.time()*1000\n",
    "result = api_v2.candles(symbol=pair, interval=bin_size,  \n",
    "                         limit=limit, start=t_start, end=t_stop)"
   ]
  },
  {
   "cell_type": "code",
   "execution_count": 94,
   "metadata": {},
   "outputs": [
    {
     "data": {
      "text/plain": [
       "1617294739.3185282"
      ]
     },
     "execution_count": 94,
     "metadata": {},
     "output_type": "execute_result"
    }
   ],
   "source": [
    "time.time()\n"
   ]
  },
  {
   "cell_type": "code",
   "execution_count": 102,
   "metadata": {},
   "outputs": [],
   "source": [
    "def fetch_data(start, stop, symbol, interval, tick_limit, step):\n",
    "    # Create api instance\n",
    "    api_v2 = bitfinex.bitfinex_v2.api_v2()\n",
    "    data = []\n",
    "    start = start - step\n",
    "    while start < stop:\n",
    "        start = start + step\n",
    "        end = start + step\n",
    "        res = api_v2.candles(symbol=symbol, interval=interval,\n",
    "                             limit=tick_limit, start=start,\n",
    "                             end=end)\n",
    "        data.extend(res)\n",
    "        time.sleep(2)\n",
    "    return data"
   ]
  },
  {
   "cell_type": "code",
   "execution_count": 103,
   "metadata": {},
   "outputs": [
    {
     "name": "stdout",
     "output_type": "stream",
     "text": [
      "No keys, only access to public API functions\n"
     ]
    }
   ],
   "source": [
    "%timeit\n",
    "# Set step size\n",
    "time_step = 60000000\n",
    "\n",
    "pair_data = fetch_data(start=t_start, stop=t_stop, symbol=pair,\n",
    "                       interval=bin_size, tick_limit=limit, \n",
    "                       step=time_step)"
   ]
  },
  {
   "cell_type": "code",
   "execution_count": 104,
   "metadata": {},
   "outputs": [],
   "source": [
    "# Create pandas data frame and clean/format data\n",
    "names = ['time', 'open', 'close', 'high', 'low', 'volume']\n",
    "df = pd.DataFrame(pair_data[:-6], columns=names)\n",
    "df.drop_duplicates(inplace=True)\n",
    "df['time'] = pd.to_datetime(df['time'], unit='ms')\n",
    "df.set_index('time', inplace=True)\n",
    "df.sort_index(inplace=True)"
   ]
  },
  {
   "cell_type": "code",
   "execution_count": 105,
   "metadata": {},
   "outputs": [
    {
     "data": {
      "text/html": [
       "<div>\n",
       "<style scoped>\n",
       "    .dataframe tbody tr th:only-of-type {\n",
       "        vertical-align: middle;\n",
       "    }\n",
       "\n",
       "    .dataframe tbody tr th {\n",
       "        vertical-align: top;\n",
       "    }\n",
       "\n",
       "    .dataframe thead th {\n",
       "        text-align: right;\n",
       "    }\n",
       "</style>\n",
       "<table border=\"1\" class=\"dataframe\">\n",
       "  <thead>\n",
       "    <tr style=\"text-align: right;\">\n",
       "      <th></th>\n",
       "      <th>open</th>\n",
       "      <th>close</th>\n",
       "      <th>high</th>\n",
       "      <th>low</th>\n",
       "      <th>volume</th>\n",
       "    </tr>\n",
       "    <tr>\n",
       "      <th>time</th>\n",
       "      <th></th>\n",
       "      <th></th>\n",
       "      <th></th>\n",
       "      <th></th>\n",
       "      <th></th>\n",
       "    </tr>\n",
       "  </thead>\n",
       "  <tbody>\n",
       "    <tr>\n",
       "      <th>2021-03-30 22:00:00</th>\n",
       "      <td>58780.000000</td>\n",
       "      <td>58868.0000</td>\n",
       "      <td>58966.14945</td>\n",
       "      <td>58717.856172</td>\n",
       "      <td>37.831894</td>\n",
       "    </tr>\n",
       "    <tr>\n",
       "      <th>2021-03-30 22:30:00</th>\n",
       "      <td>58859.000000</td>\n",
       "      <td>58776.0896</td>\n",
       "      <td>58905.00000</td>\n",
       "      <td>58682.000000</td>\n",
       "      <td>72.774989</td>\n",
       "    </tr>\n",
       "    <tr>\n",
       "      <th>2021-03-30 23:00:00</th>\n",
       "      <td>58776.089600</td>\n",
       "      <td>58804.0000</td>\n",
       "      <td>58812.00000</td>\n",
       "      <td>58670.000000</td>\n",
       "      <td>80.673442</td>\n",
       "    </tr>\n",
       "    <tr>\n",
       "      <th>2021-03-30 23:30:00</th>\n",
       "      <td>58804.220399</td>\n",
       "      <td>58840.0000</td>\n",
       "      <td>58841.00000</td>\n",
       "      <td>58670.000000</td>\n",
       "      <td>18.535530</td>\n",
       "    </tr>\n",
       "    <tr>\n",
       "      <th>2021-03-31 00:00:00</th>\n",
       "      <td>58837.000000</td>\n",
       "      <td>58816.0000</td>\n",
       "      <td>59066.00000</td>\n",
       "      <td>58757.000000</td>\n",
       "      <td>78.740802</td>\n",
       "    </tr>\n",
       "    <tr>\n",
       "      <th>...</th>\n",
       "      <td>...</td>\n",
       "      <td>...</td>\n",
       "      <td>...</td>\n",
       "      <td>...</td>\n",
       "      <td>...</td>\n",
       "    </tr>\n",
       "    <tr>\n",
       "      <th>2021-04-01 05:00:00</th>\n",
       "      <td>58867.000000</td>\n",
       "      <td>58850.0000</td>\n",
       "      <td>58955.00000</td>\n",
       "      <td>58700.000000</td>\n",
       "      <td>41.550125</td>\n",
       "    </tr>\n",
       "    <tr>\n",
       "      <th>2021-04-01 05:30:00</th>\n",
       "      <td>58853.000000</td>\n",
       "      <td>58777.0000</td>\n",
       "      <td>58949.00000</td>\n",
       "      <td>58777.000000</td>\n",
       "      <td>20.786258</td>\n",
       "    </tr>\n",
       "    <tr>\n",
       "      <th>2021-04-01 06:00:00</th>\n",
       "      <td>58782.000000</td>\n",
       "      <td>58929.0000</td>\n",
       "      <td>58999.00000</td>\n",
       "      <td>58781.273690</td>\n",
       "      <td>31.063043</td>\n",
       "    </tr>\n",
       "    <tr>\n",
       "      <th>2021-04-01 06:30:00</th>\n",
       "      <td>58915.000000</td>\n",
       "      <td>58729.0000</td>\n",
       "      <td>58994.00000</td>\n",
       "      <td>58669.000000</td>\n",
       "      <td>52.807253</td>\n",
       "    </tr>\n",
       "    <tr>\n",
       "      <th>2021-04-01 07:00:00</th>\n",
       "      <td>58729.000000</td>\n",
       "      <td>58858.0000</td>\n",
       "      <td>58889.00000</td>\n",
       "      <td>58527.000000</td>\n",
       "      <td>295.366205</td>\n",
       "    </tr>\n",
       "  </tbody>\n",
       "</table>\n",
       "<p>67 rows × 5 columns</p>\n",
       "</div>"
      ],
      "text/plain": [
       "                             open       close         high           low  \\\n",
       "time                                                                       \n",
       "2021-03-30 22:00:00  58780.000000  58868.0000  58966.14945  58717.856172   \n",
       "2021-03-30 22:30:00  58859.000000  58776.0896  58905.00000  58682.000000   \n",
       "2021-03-30 23:00:00  58776.089600  58804.0000  58812.00000  58670.000000   \n",
       "2021-03-30 23:30:00  58804.220399  58840.0000  58841.00000  58670.000000   \n",
       "2021-03-31 00:00:00  58837.000000  58816.0000  59066.00000  58757.000000   \n",
       "...                           ...         ...          ...           ...   \n",
       "2021-04-01 05:00:00  58867.000000  58850.0000  58955.00000  58700.000000   \n",
       "2021-04-01 05:30:00  58853.000000  58777.0000  58949.00000  58777.000000   \n",
       "2021-04-01 06:00:00  58782.000000  58929.0000  58999.00000  58781.273690   \n",
       "2021-04-01 06:30:00  58915.000000  58729.0000  58994.00000  58669.000000   \n",
       "2021-04-01 07:00:00  58729.000000  58858.0000  58889.00000  58527.000000   \n",
       "\n",
       "                         volume  \n",
       "time                             \n",
       "2021-03-30 22:00:00   37.831894  \n",
       "2021-03-30 22:30:00   72.774989  \n",
       "2021-03-30 23:00:00   80.673442  \n",
       "2021-03-30 23:30:00   18.535530  \n",
       "2021-03-31 00:00:00   78.740802  \n",
       "...                         ...  \n",
       "2021-04-01 05:00:00   41.550125  \n",
       "2021-04-01 05:30:00   20.786258  \n",
       "2021-04-01 06:00:00   31.063043  \n",
       "2021-04-01 06:30:00   52.807253  \n",
       "2021-04-01 07:00:00  295.366205  \n",
       "\n",
       "[67 rows x 5 columns]"
      ]
     },
     "execution_count": 105,
     "metadata": {},
     "output_type": "execute_result"
    }
   ],
   "source": [
    "df"
   ]
  },
  {
   "cell_type": "code",
   "execution_count": 74,
   "metadata": {},
   "outputs": [
    {
     "data": {
      "text/plain": [
       "datetime.datetime(2021, 4, 1, 18, 29, 16, 735199)"
      ]
     },
     "execution_count": 74,
     "metadata": {},
     "output_type": "execute_result"
    }
   ],
   "source": [
    "datetime.datetime.now()"
   ]
  }
 ],
 "metadata": {
  "kernelspec": {
   "display_name": "Python 3",
   "language": "python",
   "name": "python3"
  },
  "language_info": {
   "codemirror_mode": {
    "name": "ipython",
    "version": 3
   },
   "file_extension": ".py",
   "mimetype": "text/x-python",
   "name": "python",
   "nbconvert_exporter": "python",
   "pygments_lexer": "ipython3",
   "version": "3.8.5"
  }
 },
 "nbformat": 4,
 "nbformat_minor": 4
}
